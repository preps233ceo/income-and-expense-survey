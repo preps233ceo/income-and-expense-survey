{
 "cells": [
  {
   "cell_type": "code",
   "execution_count": null,
   "id": "063f50ca-9d61-41ab-baaa-5d34005b4689",
   "metadata": {},
   "outputs": [],
   "source": [
    "import csv\n",
    "\n",
    "class User:\n",
    "    def __init__(self, age, gender, total_income, expenses):\n",
    "        self.age = age\n",
    "        self.gender = gender\n",
    "        self.total_income = total_income\n",
    "        self.expenses = expenses\n",
    "\n",
    "    def to_dict(self):\n",
    "        return {\n",
    "            \"age\": self.age,\n",
    "            \"gender\": self.gender,\n",
    "            \"total_income\": self.total_income,\n",
    "            \"utilities\": self.expenses.get(\"utilities\", 0),\n",
    "            \"entertainment\": self.expenses.get(\"entertainment\", 0),\n",
    "            \"school_fees\": self.expenses.get(\"school_fees\", 0),\n",
    "            \"shopping\": self.expenses.get(\"shopping\", 0),\n",
    "            \"healthcare\": self.expenses.get(\"healthcare\", 0)\n",
    "        }\n",
    "\n",
    "def save_to_csv(users, filename='user_data.csv'):\n",
    "    keys = users[0].to_dict().keys()\n",
    "    with open(filename, 'w', newline='') as output_file:\n",
    "        dict_writer = csv.DictWriter(output_file, fieldnames=keys)\n",
    "        dict_writer.writeheader()\n",
    "        dict_writer.writerows([user.to_dict() for user in users])\n"
   ]
  }
 ],
 "metadata": {
  "kernelspec": {
   "display_name": "Python 3 (ipykernel)",
   "language": "python",
   "name": "python3"
  },
  "language_info": {
   "codemirror_mode": {
    "name": "ipython",
    "version": 3
   },
   "file_extension": ".py",
   "mimetype": "text/x-python",
   "name": "python",
   "nbconvert_exporter": "python",
   "pygments_lexer": "ipython3",
   "version": "3.11.5"
  }
 },
 "nbformat": 4,
 "nbformat_minor": 5
}

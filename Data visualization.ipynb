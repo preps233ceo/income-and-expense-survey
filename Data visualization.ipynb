{
 "cells": [
  {
   "cell_type": "code",
   "execution_count": null,
   "id": "a0da3aaa-83cb-45fd-b858-fbc96a191d3c",
   "metadata": {},
   "outputs": [],
   "source": [
    "import pandas as pd\n",
    "\n",
    "df = pd.read_csv('user_data.csv')\n",
    "df.head()\n",
    "\n",
    "import matplotlib.pyplot as plt\n",
    "import seaborn as sns\n",
    "\n",
    "# Show the ages with the highest income\n",
    "plt.figure(figsize=(10, 6))\n",
    "sns.barplot(data=df, x='age', y='total_income', ci=None)\n",
    "plt.title('Ages with the Highest Income')\n",
    "plt.xlabel('Age')\n",
    "plt.ylabel('Total Income')\n",
    "plt.xticks(rotation=45)\n",
    "plt.show()\n",
    "\n",
    "# Show the gender distribution across spending categories\n",
    "expense_categories = ['utilities', 'entertainment', 'school_fees', 'shopping', 'healthcare']\n",
    "df_melted = df.melt(id_vars=['gender'], value_vars=expense_categories, var_name='category', value_name='amount')\n",
    "\n",
    "plt.figure(figsize=(10, 6))\n",
    "sns.boxplot(data=df_melted, x='category', y='amount', hue='gender')\n",
    "plt.title('Gender Distribution Across Spending Categories')\n",
    "plt.xlabel('Expense Category')\n",
    "plt.ylabel('Amount Spent')\n",
    "plt.xticks(rotation=45)\n",
    "plt.show()\n",
    "plt.savefig('ages_highest_income.png')\n",
    "plt.savefig('gender_spending_distribution.png')\n"
   ]
  }
 ],
 "metadata": {
  "kernelspec": {
   "display_name": "Python 3 (ipykernel)",
   "language": "python",
   "name": "python3"
  },
  "language_info": {
   "codemirror_mode": {
    "name": "ipython",
    "version": 3
   },
   "file_extension": ".py",
   "mimetype": "text/x-python",
   "name": "python",
   "nbconvert_exporter": "python",
   "pygments_lexer": "ipython3",
   "version": "3.11.5"
  }
 },
 "nbformat": 4,
 "nbformat_minor": 5
}

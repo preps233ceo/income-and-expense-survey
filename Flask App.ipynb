{
 "cells": [
  {
   "cell_type": "code",
   "execution_count": null,
   "id": "90421895-f88d-4add-bc81-0d2fa33218a9",
   "metadata": {},
   "outputs": [],
   "source": [
    "from flask import Flask, render_template, request, redirect\n",
    "import pymongo\n",
    "\n",
    "app = Flask(__name__)\n",
    "\n",
    "# MongoDB connection\n",
    "client = pymongo.MongoClient(\"mongodb://localhost:27017/\")\n",
    "db = client[\"survey_db\"]\n",
    "collection = db[\"users\"]\n",
    "\n",
    "@app.route('/')\n",
    "def index():\n",
    "    return render_template('index.html')\n",
    "\n",
    "@app.route('/submit', methods=['POST'])\n",
    "def submit():\n",
    "    if request.method == 'POST':\n",
    "        age = request.form['age']\n",
    "        gender = request.form['gender']\n",
    "        total_income = request.form['total_income']\n",
    "        expenses = {\n",
    "            'utilities': request.form['utilities'],\n",
    "            'entertainment': request.form['entertainment'],\n",
    "            'school_fees': request.form['school_fees'],\n",
    "            'shopping': request.form['shopping'],\n",
    "            'healthcare': request.form['healthcare']\n",
    "        }\n",
    "        user_data = {\n",
    "            'age': age,\n",
    "            'gender': gender,\n",
    "            'total_income': total_income,\n",
    "            'expenses': expenses\n",
    "        }\n",
    "        collection.insert_one(user_data)\n",
    "        return redirect('/')\n",
    "\n",
    "if __name__ == \"__main__\":\n",
    "    app.run(debug=True)\n"
   ]
  }
 ],
 "metadata": {
  "kernelspec": {
   "display_name": "Python 3 (ipykernel)",
   "language": "python",
   "name": "python3"
  },
  "language_info": {
   "codemirror_mode": {
    "name": "ipython",
    "version": 3
   },
   "file_extension": ".py",
   "mimetype": "text/x-python",
   "name": "python",
   "nbconvert_exporter": "python",
   "pygments_lexer": "ipython3",
   "version": "3.11.5"
  }
 },
 "nbformat": 4,
 "nbformat_minor": 5
}

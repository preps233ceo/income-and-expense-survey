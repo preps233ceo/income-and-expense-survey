{
 "cells": [
  {
   "cell_type": "code",
   "execution_count": null,
   "id": "5897dc3d-cc1e-40ec-a075-ad5ccedf408e",
   "metadata": {},
   "outputs": [],
   "source": [
    "def fetch_data():\n",
    "    users = []\n",
    "    for user_data in collection.find():\n",
    "        user = User(\n",
    "            user_data['age'],\n",
    "            user_data['gender'],\n",
    "            user_data['total_income'],\n",
    "            user_data['expenses']\n",
    "        )\n",
    "        users.append(user)\n",
    "    return users\n",
    "\n",
    "users = fetch_data()\n",
    "save_to_csv(users)\n"
   ]
  }
 ],
 "metadata": {
  "kernelspec": {
   "display_name": "Python 3 (ipykernel)",
   "language": "python",
   "name": "python3"
  },
  "language_info": {
   "codemirror_mode": {
    "name": "ipython",
    "version": 3
   },
   "file_extension": ".py",
   "mimetype": "text/x-python",
   "name": "python",
   "nbconvert_exporter": "python",
   "pygments_lexer": "ipython3",
   "version": "3.11.5"
  }
 },
 "nbformat": 4,
 "nbformat_minor": 5
}
